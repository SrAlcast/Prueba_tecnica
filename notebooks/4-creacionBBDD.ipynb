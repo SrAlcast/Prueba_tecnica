{
 "cells": [
  {
   "cell_type": "code",
   "execution_count": 65,
   "metadata": {},
   "outputs": [],
   "source": [
    "# importamos las librerías con las que vamos a trabajar\n",
    "\n",
    "# Trabajar con bases de datos y python\n",
    "# -----------------------------------------------------------------------\n",
    "import psycopg2\n",
    "from psycopg2 import OperationalError, errorcodes, errors\n",
    "\n",
    "\n",
    "# Trabajar con DataFrames\n",
    "# -----------------------------------------------------------------------\n",
    "import pandas as pd"
   ]
  },
  {
   "cell_type": "code",
   "execution_count": 66,
   "metadata": {},
   "outputs": [],
   "source": [
    "try:\n",
    "    conexionpeliculas=psycopg2.connect(\n",
    "    database=\"film\",\n",
    "    user=\"postgres\",\n",
    "    password=\"admin\",\n",
    "    host=\"localhost\",\n",
    "    port=\"5432\")\n",
    "except OperationalError as e:\n",
    "    if e.pgcode ==errorcodes.INVALID_PASSWORD:\n",
    "        print(\"La constraseña es incorrecta\")\n",
    "    elif e.pgcode ==errorcodes.CONNECTION_EXCEPTION:\n",
    "        print(\"Error de conexión\")"
   ]
  },
  {
   "cell_type": "code",
   "execution_count": 67,
   "metadata": {},
   "outputs": [
    {
     "data": {
      "text/plain": [
       "<cursor object at 0x000001B6F6D76420; closed: 0>"
      ]
     },
     "execution_count": 67,
     "metadata": {},
     "output_type": "execute_result"
    }
   ],
   "source": [
    "# Primero, deshacer la transacción fallida\n",
    "conexionpeliculas.rollback()\n",
    "\n",
    "cursorpeliculas = conexionpeliculas.cursor()\n",
    "cursorpeliculas"
   ]
  },
  {
   "cell_type": "code",
   "execution_count": 68,
   "metadata": {},
   "outputs": [],
   "source": [
    "# Tabla peliculas\n",
    "\n",
    "# Tipo       object\n",
    "# Titulo     object\n",
    "# Año         int64\n",
    "# Mes         int64\n",
    "# Id         object\n",
    "# generos    object\n",
    "\n",
    "querydecreacion1 = \"\"\"\n",
    "    CREATE TABLE IF NOT EXISTS peliculas (\n",
    "    tipo VARCHAR,\n",
    "    titulo VARCHAR,\n",
    "    año INT,\n",
    "    mes INT,\n",
    "    id_pelicula VARCHAR PRIMARY KEY,\n",
    "    genero VARCHAR\n",
    ");\n",
    "\"\"\"\n",
    "\n",
    "# Ejecutar la consulta y confirmar los cambios\n",
    "cursorpeliculas.execute(querydecreacion1)\n",
    "conexionpeliculas.commit()\n",
    "\n",
    "# Tabla detalles\n",
    "\n",
    "# titulo          object\n",
    "# cali_imdb      float64\n",
    "# direc_imbd      object\n",
    "# guion_imbd      object\n",
    "# argum_imbd      object\n",
    "# durac_imbd      object\n",
    "# id_pelicula     object\n",
    "\n",
    "querydecreacion2 = \"\"\"\n",
    "    CREATE TABLE IF NOT EXISTS detalles_pelicula(\n",
    "    titulo VARCHAR,\n",
    "    cali_imdb DECIMAL,\n",
    "    direc_imbd VARCHAR,\n",
    "    guion_imbd VARCHAR,\n",
    "    argum_imbd VARCHAR,\n",
    "    durac_imbd VARCHAR,\n",
    "    id_pelicula VARCHAR PRIMARY KEY,\n",
    "    FOREIGN KEY (id_pelicula) REFERENCES peliculas(id_pelicula)\n",
    "    on delete restrict\n",
    "    on update cascade\n",
    ");\n",
    "\"\"\"\n",
    "\n",
    "# Ejecutar la consulta y confirmar los cambios\n",
    "cursorpeliculas.execute(querydecreacion2)\n",
    "conexionpeliculas.commit()\n",
    "\n",
    "# Tabla detalles actores\n",
    "\n",
    "# actr            object\n",
    "# año_nac          int64\n",
    "# conocido_por    object\n",
    "# que_hace        object\n",
    "# premios         object\n",
    "\n",
    "querydecreacion4 = \"\"\"\n",
    "    CREATE TABLE IF NOT EXISTS detalles_actores (\n",
    "    nombre VARCHAR PRIMARY KEY,\n",
    "    año INT,\n",
    "    conocido VARCHAR,\n",
    "    rol VARCHAR,\n",
    "    premios VARCHAR,\n",
    ");\n",
    "\"\"\"\n",
    "\n",
    "# Ejecutar la consulta y confirmar los cambios\n",
    "cursorpeliculas.execute(querydecreacion4)\n",
    "conexionpeliculas.commit()\n",
    "\n",
    "# Tabla actores\n",
    "\n",
    "# Movie ID        object\n",
    "# Actriz_Actor    object\n",
    "\n",
    "querydecreacion3 = \"\"\"\n",
    "    CREATE TABLE IF NOT EXISTS actores (\n",
    "    id_pelicula VARCHAR,\n",
    "    nombre VARCHAR,\n",
    "    FOREIGN KEY (id_pelicula) REFERENCES peliculas(id_pelicula)\n",
    "    FOREIGN KEY (nombre) REFERENCES detalles_actores (nombre)\n",
    "    on delete restrict\n",
    "    on update cascade\n",
    ");\n",
    "\"\"\"\n",
    "\n",
    "# Ejecutar la consulta y confirmar los cambios\n",
    "cursorpeliculas.execute(querydecreacion3)\n",
    "conexionpeliculas.commit()\n",
    "\n"
   ]
  },
  {
   "cell_type": "code",
   "execution_count": 69,
   "metadata": {},
   "outputs": [
    {
     "data": {
      "text/html": [
       "<div>\n",
       "<style scoped>\n",
       "    .dataframe tbody tr th:only-of-type {\n",
       "        vertical-align: middle;\n",
       "    }\n",
       "\n",
       "    .dataframe tbody tr th {\n",
       "        vertical-align: top;\n",
       "    }\n",
       "\n",
       "    .dataframe thead th {\n",
       "        text-align: right;\n",
       "    }\n",
       "</style>\n",
       "<table border=\"1\" class=\"dataframe\">\n",
       "  <thead>\n",
       "    <tr style=\"text-align: right;\">\n",
       "      <th></th>\n",
       "      <th>Tipo</th>\n",
       "      <th>Titulo</th>\n",
       "      <th>Año</th>\n",
       "      <th>Mes</th>\n",
       "      <th>Id</th>\n",
       "      <th>generos</th>\n",
       "    </tr>\n",
       "  </thead>\n",
       "  <tbody>\n",
       "    <tr>\n",
       "      <th>1345</th>\n",
       "      <td>Short</td>\n",
       "      <td>Powrót</td>\n",
       "      <td>2013</td>\n",
       "      <td>6</td>\n",
       "      <td>tt2797786</td>\n",
       "      <td>Mystery</td>\n",
       "    </tr>\n",
       "    <tr>\n",
       "      <th>1226</th>\n",
       "      <td>Short</td>\n",
       "      <td>Obscurity</td>\n",
       "      <td>2018</td>\n",
       "      <td>3</td>\n",
       "      <td>tt13369410</td>\n",
       "      <td>Thriller</td>\n",
       "    </tr>\n",
       "    <tr>\n",
       "      <th>54</th>\n",
       "      <td>Short</td>\n",
       "      <td>Even If It's Wrong</td>\n",
       "      <td>2004</td>\n",
       "      <td>4</td>\n",
       "      <td>tt0419736</td>\n",
       "      <td>Action</td>\n",
       "    </tr>\n",
       "    <tr>\n",
       "      <th>352</th>\n",
       "      <td>Movie</td>\n",
       "      <td>Jump Tomorrow</td>\n",
       "      <td>2001</td>\n",
       "      <td>11</td>\n",
       "      <td>tt0273300</td>\n",
       "      <td>Comedy</td>\n",
       "    </tr>\n",
       "    <tr>\n",
       "      <th>1</th>\n",
       "      <td>Movie</td>\n",
       "      <td>Velai Kidaichiruchu</td>\n",
       "      <td>1990</td>\n",
       "      <td>8</td>\n",
       "      <td>tt0318803</td>\n",
       "      <td>Action</td>\n",
       "    </tr>\n",
       "  </tbody>\n",
       "</table>\n",
       "</div>"
      ],
      "text/plain": [
       "       Tipo               Titulo   Año  Mes          Id   generos\n",
       "1345  Short               Powrót  2013    6   tt2797786   Mystery\n",
       "1226  Short            Obscurity  2018    3  tt13369410  Thriller\n",
       "54    Short   Even If It's Wrong  2004    4   tt0419736    Action\n",
       "352   Movie        Jump Tomorrow  2001   11   tt0273300    Comedy\n",
       "1     Movie  Velai Kidaichiruchu  1990    8   tt0318803    Action"
      ]
     },
     "execution_count": 69,
     "metadata": {},
     "output_type": "execute_result"
    }
   ],
   "source": [
    "df_peliculas=pd.read_csv(\"../data/extra/peliculas.csv\")\n",
    "df_peliculas.sample(5)"
   ]
  },
  {
   "cell_type": "code",
   "execution_count": 70,
   "metadata": {},
   "outputs": [
    {
     "data": {
      "text/plain": [
       "Tipo       object\n",
       "Titulo     object\n",
       "Año         int64\n",
       "Mes         int64\n",
       "Id         object\n",
       "generos    object\n",
       "dtype: object"
      ]
     },
     "execution_count": 70,
     "metadata": {},
     "output_type": "execute_result"
    }
   ],
   "source": [
    "df_peliculas.dtypes"
   ]
  },
  {
   "cell_type": "code",
   "execution_count": 71,
   "metadata": {},
   "outputs": [],
   "source": [
    "lista_peliculas = [tuple(row) for row in df_peliculas.values]"
   ]
  },
  {
   "cell_type": "code",
   "execution_count": 72,
   "metadata": {},
   "outputs": [
    {
     "data": {
      "text/html": [
       "<div>\n",
       "<style scoped>\n",
       "    .dataframe tbody tr th:only-of-type {\n",
       "        vertical-align: middle;\n",
       "    }\n",
       "\n",
       "    .dataframe tbody tr th {\n",
       "        vertical-align: top;\n",
       "    }\n",
       "\n",
       "    .dataframe thead th {\n",
       "        text-align: right;\n",
       "    }\n",
       "</style>\n",
       "<table border=\"1\" class=\"dataframe\">\n",
       "  <thead>\n",
       "    <tr style=\"text-align: right;\">\n",
       "      <th></th>\n",
       "      <th>titulo</th>\n",
       "      <th>cali_imdb</th>\n",
       "      <th>direc_imbd</th>\n",
       "      <th>guion_imbd</th>\n",
       "      <th>argum_imbd</th>\n",
       "      <th>durac_imbd</th>\n",
       "      <th>id_pelicula</th>\n",
       "    </tr>\n",
       "  </thead>\n",
       "  <tbody>\n",
       "    <tr>\n",
       "      <th>1320</th>\n",
       "      <td>Where's Dookie Cannata?</td>\n",
       "      <td>NaN</td>\n",
       "      <td>Desconocido</td>\n",
       "      <td>Desconocido</td>\n",
       "      <td>Desconocido</td>\n",
       "      <td>15min</td>\n",
       "      <td>tt1340139</td>\n",
       "    </tr>\n",
       "    <tr>\n",
       "      <th>763</th>\n",
       "      <td>I Think You Should Flee</td>\n",
       "      <td>NaN</td>\n",
       "      <td>Roger Brian Williams</td>\n",
       "      <td>Tracy Ann Lisa</td>\n",
       "      <td>After an unknown supernatural creature killed ...</td>\n",
       "      <td>Desconocido</td>\n",
       "      <td>tt4472982</td>\n",
       "    </tr>\n",
       "    <tr>\n",
       "      <th>469</th>\n",
       "      <td>La mujer del Presidente</td>\n",
       "      <td>NaN</td>\n",
       "      <td>Carlos del Castillo</td>\n",
       "      <td>Carmen Mirabal</td>\n",
       "      <td>Desconocido</td>\n",
       "      <td>Desconocido</td>\n",
       "      <td>tt12572368</td>\n",
       "    </tr>\n",
       "    <tr>\n",
       "      <th>715</th>\n",
       "      <td>Svarta Madam</td>\n",
       "      <td>7.4</td>\n",
       "      <td>Desconocido</td>\n",
       "      <td>Desconocido</td>\n",
       "      <td>Desconocido</td>\n",
       "      <td>24m</td>\n",
       "      <td>tt5868058</td>\n",
       "    </tr>\n",
       "    <tr>\n",
       "      <th>1265</th>\n",
       "      <td>Sam</td>\n",
       "      <td>NaN</td>\n",
       "      <td>Ludovica Musumeci</td>\n",
       "      <td>Ludovica Musumeci</td>\n",
       "      <td>Desconocido</td>\n",
       "      <td>5min</td>\n",
       "      <td>tt11761282</td>\n",
       "    </tr>\n",
       "  </tbody>\n",
       "</table>\n",
       "</div>"
      ],
      "text/plain": [
       "                       titulo  cali_imdb            direc_imbd  \\\n",
       "1320  Where's Dookie Cannata?        NaN           Desconocido   \n",
       "763   I Think You Should Flee        NaN  Roger Brian Williams   \n",
       "469   La mujer del Presidente        NaN   Carlos del Castillo   \n",
       "715              Svarta Madam        7.4           Desconocido   \n",
       "1265                      Sam        NaN     Ludovica Musumeci   \n",
       "\n",
       "             guion_imbd                                         argum_imbd  \\\n",
       "1320        Desconocido                                        Desconocido   \n",
       "763      Tracy Ann Lisa  After an unknown supernatural creature killed ...   \n",
       "469      Carmen Mirabal                                        Desconocido   \n",
       "715         Desconocido                                        Desconocido   \n",
       "1265  Ludovica Musumeci                                        Desconocido   \n",
       "\n",
       "       durac_imbd id_pelicula  \n",
       "1320        15min   tt1340139  \n",
       "763   Desconocido   tt4472982  \n",
       "469   Desconocido  tt12572368  \n",
       "715           24m   tt5868058  \n",
       "1265         5min  tt11761282  "
      ]
     },
     "execution_count": 72,
     "metadata": {},
     "output_type": "execute_result"
    }
   ],
   "source": [
    "df_detalles_peliculas=pd.read_csv(\"../data/extra/detalles_peliculas.csv\")\n",
    "df_detalles_peliculas.sample(5)"
   ]
  },
  {
   "cell_type": "code",
   "execution_count": 73,
   "metadata": {},
   "outputs": [
    {
     "data": {
      "text/plain": [
       "titulo          object\n",
       "cali_imdb      float64\n",
       "direc_imbd      object\n",
       "guion_imbd      object\n",
       "argum_imbd      object\n",
       "durac_imbd      object\n",
       "id_pelicula     object\n",
       "dtype: object"
      ]
     },
     "execution_count": 73,
     "metadata": {},
     "output_type": "execute_result"
    }
   ],
   "source": [
    "df_detalles_peliculas.dtypes"
   ]
  },
  {
   "cell_type": "code",
   "execution_count": 74,
   "metadata": {},
   "outputs": [],
   "source": [
    "lista_detalles_peliculas = [tuple(row) for row in df_detalles_peliculas.values]"
   ]
  },
  {
   "cell_type": "code",
   "execution_count": 75,
   "metadata": {},
   "outputs": [
    {
     "data": {
      "text/html": [
       "<div>\n",
       "<style scoped>\n",
       "    .dataframe tbody tr th:only-of-type {\n",
       "        vertical-align: middle;\n",
       "    }\n",
       "\n",
       "    .dataframe tbody tr th {\n",
       "        vertical-align: top;\n",
       "    }\n",
       "\n",
       "    .dataframe thead th {\n",
       "        text-align: right;\n",
       "    }\n",
       "</style>\n",
       "<table border=\"1\" class=\"dataframe\">\n",
       "  <thead>\n",
       "    <tr style=\"text-align: right;\">\n",
       "      <th></th>\n",
       "      <th>Movie ID</th>\n",
       "      <th>Actriz_Actor</th>\n",
       "    </tr>\n",
       "  </thead>\n",
       "  <tbody>\n",
       "    <tr>\n",
       "      <th>443</th>\n",
       "      <td>tt0115826</td>\n",
       "      <td>Louis Gossett Jr.</td>\n",
       "    </tr>\n",
       "    <tr>\n",
       "      <th>5632</th>\n",
       "      <td>tt6220752</td>\n",
       "      <td>Aaron Dalla Villa</td>\n",
       "    </tr>\n",
       "    <tr>\n",
       "      <th>2647</th>\n",
       "      <td>tt2795608</td>\n",
       "      <td>Abe Mitchell</td>\n",
       "    </tr>\n",
       "    <tr>\n",
       "      <th>6371</th>\n",
       "      <td>tt10687070</td>\n",
       "      <td>G.M. Sundar</td>\n",
       "    </tr>\n",
       "    <tr>\n",
       "      <th>1620</th>\n",
       "      <td>tt11123316</td>\n",
       "      <td>Diego Gurpegui</td>\n",
       "    </tr>\n",
       "  </tbody>\n",
       "</table>\n",
       "</div>"
      ],
      "text/plain": [
       "        Movie ID       Actriz_Actor\n",
       "443    tt0115826  Louis Gossett Jr.\n",
       "5632   tt6220752  Aaron Dalla Villa\n",
       "2647   tt2795608       Abe Mitchell\n",
       "6371  tt10687070        G.M. Sundar\n",
       "1620  tt11123316     Diego Gurpegui"
      ]
     },
     "execution_count": 75,
     "metadata": {},
     "output_type": "execute_result"
    }
   ],
   "source": [
    "df_actores=pd.read_csv(\"../data/extra/pelicula_artista.csv\")\n",
    "df_actores.sample(5)"
   ]
  },
  {
   "cell_type": "code",
   "execution_count": 76,
   "metadata": {},
   "outputs": [
    {
     "data": {
      "text/plain": [
       "Actriz_Actor\n",
       "Sin datos         4094\n",
       "Shakti Kapoor        8\n",
       "Anupam Kher          8\n",
       "Gulshan Grover       6\n",
       "Mohnish Behl         6\n",
       "                  ... \n",
       "Keep Chambers        1\n",
       "Jarod Johnson        1\n",
       "Joe D'Aguanno        1\n",
       "Darren Baxter        1\n",
       "Fanta Berete         1\n",
       "Name: count, Length: 9909, dtype: int64"
      ]
     },
     "execution_count": 76,
     "metadata": {},
     "output_type": "execute_result"
    }
   ],
   "source": [
    "df_actores[\"Actriz_Actor\"].value_counts()"
   ]
  },
  {
   "cell_type": "code",
   "execution_count": 77,
   "metadata": {},
   "outputs": [
    {
     "data": {
      "text/plain": [
       "Movie ID        object\n",
       "Actriz_Actor    object\n",
       "dtype: object"
      ]
     },
     "execution_count": 77,
     "metadata": {},
     "output_type": "execute_result"
    }
   ],
   "source": [
    "df_actores.dtypes"
   ]
  },
  {
   "cell_type": "code",
   "execution_count": 78,
   "metadata": {},
   "outputs": [
    {
     "data": {
      "text/plain": [
       "(14529, 2)"
      ]
     },
     "execution_count": 78,
     "metadata": {},
     "output_type": "execute_result"
    }
   ],
   "source": [
    "df_actores.shape"
   ]
  },
  {
   "cell_type": "code",
   "execution_count": 79,
   "metadata": {},
   "outputs": [],
   "source": [
    "df_actores.drop_duplicates(inplace=True)"
   ]
  },
  {
   "cell_type": "code",
   "execution_count": 83,
   "metadata": {},
   "outputs": [],
   "source": [
    "lista_actores = [tuple(row) for row in df_actores.values]"
   ]
  },
  {
   "cell_type": "code",
   "execution_count": 84,
   "metadata": {},
   "outputs": [
    {
     "data": {
      "text/html": [
       "<div>\n",
       "<style scoped>\n",
       "    .dataframe tbody tr th:only-of-type {\n",
       "        vertical-align: middle;\n",
       "    }\n",
       "\n",
       "    .dataframe tbody tr th {\n",
       "        vertical-align: top;\n",
       "    }\n",
       "\n",
       "    .dataframe thead th {\n",
       "        text-align: right;\n",
       "    }\n",
       "</style>\n",
       "<table border=\"1\" class=\"dataframe\">\n",
       "  <thead>\n",
       "    <tr style=\"text-align: right;\">\n",
       "      <th></th>\n",
       "      <th>actr</th>\n",
       "      <th>año_nac</th>\n",
       "      <th>conocido_por</th>\n",
       "      <th>que_hace</th>\n",
       "      <th>premios</th>\n",
       "    </tr>\n",
       "  </thead>\n",
       "  <tbody>\n",
       "    <tr>\n",
       "      <th>6198</th>\n",
       "      <td>Mathilda May</td>\n",
       "      <td>1965</td>\n",
       "      <td>'Lifeforce: Fuerza vital', 'The Jackal Chacal'...</td>\n",
       "      <td>Actor</td>\n",
       "      <td>5 wins &amp; 1 nomination</td>\n",
       "    </tr>\n",
       "    <tr>\n",
       "      <th>6061</th>\n",
       "      <td>Mariola Fuentes</td>\n",
       "      <td>1970</td>\n",
       "      <td>'Los abrazos rotos', 'Hable con ella', 'Dos ti...</td>\n",
       "      <td>Actor</td>\n",
       "      <td>no tiene premios</td>\n",
       "    </tr>\n",
       "    <tr>\n",
       "      <th>117</th>\n",
       "      <td>Adrian Titieni</td>\n",
       "      <td>1963</td>\n",
       "      <td>'Los exámenes', 'Ilegitim', 'Puzzle', 'Din dra...</td>\n",
       "      <td>Actor</td>\n",
       "      <td>1 nomination</td>\n",
       "    </tr>\n",
       "    <tr>\n",
       "      <th>5331</th>\n",
       "      <td>Krishnakant Singh Bundela</td>\n",
       "      <td>1981</td>\n",
       "      <td>'Laal Singh Chaddha', 'Marne Ke Dar Se Mere Di...</td>\n",
       "      <td>Actor</td>\n",
       "      <td>no tiene premios</td>\n",
       "    </tr>\n",
       "    <tr>\n",
       "      <th>4686</th>\n",
       "      <td>Jonathan Higgins</td>\n",
       "      <td>9999</td>\n",
       "      <td>'L'heroi de Berlín', 'Los elegidos', 'La casa ...</td>\n",
       "      <td>Actor</td>\n",
       "      <td>no tiene premios</td>\n",
       "    </tr>\n",
       "  </tbody>\n",
       "</table>\n",
       "</div>"
      ],
      "text/plain": [
       "                           actr  año_nac  \\\n",
       "6198               Mathilda May     1965   \n",
       "6061            Mariola Fuentes     1970   \n",
       "117              Adrian Titieni     1963   \n",
       "5331  Krishnakant Singh Bundela     1981   \n",
       "4686           Jonathan Higgins     9999   \n",
       "\n",
       "                                           conocido_por que_hace  \\\n",
       "6198  'Lifeforce: Fuerza vital', 'The Jackal Chacal'...    Actor   \n",
       "6061  'Los abrazos rotos', 'Hable con ella', 'Dos ti...    Actor   \n",
       "117   'Los exámenes', 'Ilegitim', 'Puzzle', 'Din dra...    Actor   \n",
       "5331  'Laal Singh Chaddha', 'Marne Ke Dar Se Mere Di...    Actor   \n",
       "4686  'L'heroi de Berlín', 'Los elegidos', 'La casa ...    Actor   \n",
       "\n",
       "                    premios  \n",
       "6198  5 wins & 1 nomination  \n",
       "6061       no tiene premios  \n",
       "117            1 nomination  \n",
       "5331       no tiene premios  \n",
       "4686       no tiene premios  "
      ]
     },
     "execution_count": 84,
     "metadata": {},
     "output_type": "execute_result"
    }
   ],
   "source": [
    "df_detalles_actores=pd.read_csv(\"../data/extra/detalles_artistas.csv\")\n",
    "df_detalles_actores.sample(5)"
   ]
  },
  {
   "cell_type": "code",
   "execution_count": 85,
   "metadata": {},
   "outputs": [
    {
     "data": {
      "text/plain": [
       "actr            object\n",
       "año_nac          int64\n",
       "conocido_por    object\n",
       "que_hace        object\n",
       "premios         object\n",
       "dtype: object"
      ]
     },
     "execution_count": 85,
     "metadata": {},
     "output_type": "execute_result"
    }
   ],
   "source": [
    "df_detalles_actores.dtypes"
   ]
  },
  {
   "cell_type": "code",
   "execution_count": null,
   "metadata": {},
   "outputs": [],
   "source": [
    "df_detalles_actores.drop_duplicates(inplace=True)"
   ]
  },
  {
   "cell_type": "code",
   "execution_count": 97,
   "metadata": {},
   "outputs": [
    {
     "data": {
      "text/plain": [
       "(9907, 5)"
      ]
     },
     "execution_count": 97,
     "metadata": {},
     "output_type": "execute_result"
    }
   ],
   "source": [
    "df_detalles_actores.shape"
   ]
  },
  {
   "cell_type": "code",
   "execution_count": 86,
   "metadata": {},
   "outputs": [
    {
     "data": {
      "text/plain": [
       "actr            9907\n",
       "año_nac          115\n",
       "conocido_por    9301\n",
       "que_hace        1076\n",
       "premios          872\n",
       "dtype: int64"
      ]
     },
     "execution_count": 86,
     "metadata": {},
     "output_type": "execute_result"
    }
   ],
   "source": [
    "df_detalles_actores.nunique()"
   ]
  },
  {
   "cell_type": "code",
   "execution_count": 87,
   "metadata": {},
   "outputs": [],
   "source": [
    "lista_detalles_actores = [tuple(row) for row in df_detalles_actores.values]"
   ]
  },
  {
   "cell_type": "code",
   "execution_count": 88,
   "metadata": {},
   "outputs": [
    {
     "data": {
      "text/plain": [
       "<cursor object at 0x000001B6F6000120; closed: 0>"
      ]
     },
     "execution_count": 88,
     "metadata": {},
     "output_type": "execute_result"
    }
   ],
   "source": [
    "# Primero, deshacer la transacción fallida\n",
    "conexionpeliculas.rollback()\n",
    "\n",
    "cursorpeliculas = conexionpeliculas.cursor()\n",
    "cursorpeliculas"
   ]
  },
  {
   "cell_type": "code",
   "execution_count": 89,
   "metadata": {},
   "outputs": [
    {
     "ename": "UniqueViolation",
     "evalue": "llave duplicada viola restricción de unicidad «peliculas_pkey»\nDETAIL:  Ya existe la llave (id_pelicula)=(tt0320656).\n",
     "output_type": "error",
     "traceback": [
      "\u001b[1;31m---------------------------------------------------------------------------\u001b[0m",
      "\u001b[1;31mUniqueViolation\u001b[0m                           Traceback (most recent call last)",
      "Cell \u001b[1;32mIn[89], line 3\u001b[0m\n\u001b[0;32m      1\u001b[0m queryinsercion \u001b[38;5;241m=\u001b[39m \u001b[38;5;124m\"\u001b[39m\u001b[38;5;124mINSERT INTO peliculas (tipo, titulo, año, mes, id_pelicula, genero) VALUES (\u001b[39m\u001b[38;5;132;01m%s\u001b[39;00m\u001b[38;5;124m,\u001b[39m\u001b[38;5;132;01m%s\u001b[39;00m\u001b[38;5;124m,\u001b[39m\u001b[38;5;132;01m%s\u001b[39;00m\u001b[38;5;124m,\u001b[39m\u001b[38;5;132;01m%s\u001b[39;00m\u001b[38;5;124m,\u001b[39m\u001b[38;5;132;01m%s\u001b[39;00m\u001b[38;5;124m,\u001b[39m\u001b[38;5;132;01m%s\u001b[39;00m\u001b[38;5;124m);\u001b[39m\u001b[38;5;124m\"\u001b[39m\n\u001b[0;32m      2\u001b[0m listavaloresinsercion\u001b[38;5;241m=\u001b[39mlista_peliculas\n\u001b[1;32m----> 3\u001b[0m \u001b[43mcursorpeliculas\u001b[49m\u001b[38;5;241;43m.\u001b[39;49m\u001b[43mexecutemany\u001b[49m\u001b[43m(\u001b[49m\u001b[43mqueryinsercion\u001b[49m\u001b[43m,\u001b[49m\u001b[43mlistavaloresinsercion\u001b[49m\u001b[43m)\u001b[49m\n\u001b[0;32m      4\u001b[0m conexionpeliculas\u001b[38;5;241m.\u001b[39mcommit()\n",
      "\u001b[1;31mUniqueViolation\u001b[0m: llave duplicada viola restricción de unicidad «peliculas_pkey»\nDETAIL:  Ya existe la llave (id_pelicula)=(tt0320656).\n"
     ]
    }
   ],
   "source": [
    "queryinsercion = \"INSERT INTO peliculas (tipo, titulo, año, mes, id_pelicula, genero) VALUES (%s,%s,%s,%s,%s,%s);\"\n",
    "listavaloresinsercion=lista_peliculas\n",
    "cursorpeliculas.executemany(queryinsercion,listavaloresinsercion)\n",
    "conexionpeliculas.commit()"
   ]
  },
  {
   "cell_type": "code",
   "execution_count": null,
   "metadata": {},
   "outputs": [],
   "source": [
    "queryinsercion = \"INSERT INTO detalles_pelicula (titulo, cali_imdb, direc_imbd, guion_imbd, argum_imbd, durac_imbd, id_pelicula) VALUES (%s,%s,%s,%s,%s,%s,%s);\"\n",
    "listavaloresinsercion=lista_detalles_peliculas\n",
    "cursorpeliculas.executemany(queryinsercion,listavaloresinsercion)\n",
    "conexionpeliculas.commit()"
   ]
  },
  {
   "cell_type": "code",
   "execution_count": null,
   "metadata": {},
   "outputs": [
    {
     "ename": "UniqueViolation",
     "evalue": "llave duplicada viola restricción de unicidad «actores_pkey»\nDETAIL:  Ya existe la llave (nombre)=(Kirsten Storms).\n",
     "output_type": "error",
     "traceback": [
      "\u001b[1;31m---------------------------------------------------------------------------\u001b[0m",
      "\u001b[1;31mUniqueViolation\u001b[0m                           Traceback (most recent call last)",
      "Cell \u001b[1;32mIn[22], line 3\u001b[0m\n\u001b[0;32m      1\u001b[0m queryinsercion \u001b[38;5;241m=\u001b[39m \u001b[38;5;124m\"\u001b[39m\u001b[38;5;124mINSERT INTO actores (id_pelicula, nombre) VALUES (\u001b[39m\u001b[38;5;132;01m%s\u001b[39;00m\u001b[38;5;124m,\u001b[39m\u001b[38;5;132;01m%s\u001b[39;00m\u001b[38;5;124m);\u001b[39m\u001b[38;5;124m\"\u001b[39m\n\u001b[0;32m      2\u001b[0m listavaloresinsercion\u001b[38;5;241m=\u001b[39mlista_actores\n\u001b[1;32m----> 3\u001b[0m \u001b[43mcursorpeliculas\u001b[49m\u001b[38;5;241;43m.\u001b[39;49m\u001b[43mexecutemany\u001b[49m\u001b[43m(\u001b[49m\u001b[43mqueryinsercion\u001b[49m\u001b[43m,\u001b[49m\u001b[43mlistavaloresinsercion\u001b[49m\u001b[43m)\u001b[49m\n\u001b[0;32m      4\u001b[0m conexionpeliculas\u001b[38;5;241m.\u001b[39mcommit()\n",
      "\u001b[1;31mUniqueViolation\u001b[0m: llave duplicada viola restricción de unicidad «actores_pkey»\nDETAIL:  Ya existe la llave (nombre)=(Kirsten Storms).\n"
     ]
    }
   ],
   "source": [
    "queryinsercion = \"INSERT INTO actores (id_pelicula, nombre) VALUES (%s,%s);\"\n",
    "listavaloresinsercion=lista_actores\n",
    "cursorpeliculas.executemany(queryinsercion,listavaloresinsercion)\n",
    "conexionpeliculas.commit()"
   ]
  },
  {
   "cell_type": "code",
   "execution_count": null,
   "metadata": {},
   "outputs": [],
   "source": [
    "queryinsercion = \"INSERT INTO detalles_actores (nombre, año, conocido, rol, premios) VALUES (%s,%s,%s,%s,%s);\"\n",
    "listavaloresinsercion=lista_detalles_actores\n",
    "cursorpeliculas.executemany(queryinsercion,listavaloresinsercion)\n",
    "conexionpeliculas.commit()"
   ]
  }
 ],
 "metadata": {
  "kernelspec": {
   "display_name": "Python 3",
   "language": "python",
   "name": "python3"
  },
  "language_info": {
   "codemirror_mode": {
    "name": "ipython",
    "version": 3
   },
   "file_extension": ".py",
   "mimetype": "text/x-python",
   "name": "python",
   "nbconvert_exporter": "python",
   "pygments_lexer": "ipython3",
   "version": "3.12.8"
  }
 },
 "nbformat": 4,
 "nbformat_minor": 2
}
