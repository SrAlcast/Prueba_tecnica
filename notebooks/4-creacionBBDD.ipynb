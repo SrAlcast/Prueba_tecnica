{
 "cells": [
  {
   "cell_type": "code",
   "execution_count": 1,
   "metadata": {},
   "outputs": [],
   "source": [
    "# importamos las librerías con las que vamos a trabajar\n",
    "\n",
    "# Trabajar con bases de datos y python\n",
    "# -----------------------------------------------------------------------\n",
    "import psycopg2\n",
    "from psycopg2 import OperationalError, errorcodes, errors\n",
    "\n",
    "\n",
    "# Trabajar con DataFrames\n",
    "# -----------------------------------------------------------------------\n",
    "import pandas as pd"
   ]
  },
  {
   "cell_type": "code",
   "execution_count": 2,
   "metadata": {},
   "outputs": [],
   "source": [
    "try:\n",
    "    conexionpeliculas=psycopg2.connect(\n",
    "    database=\"film\",\n",
    "    user=\"postgres\",\n",
    "    password=\"admin\",\n",
    "    host=\"localhost\",\n",
    "    port=\"5432\")\n",
    "except OperationalError as e:\n",
    "    if e.pgcode ==errorcodes.INVALID_PASSWORD:\n",
    "        print(\"La constraseña es incorrecta\")\n",
    "    elif e.pgcode ==errorcodes.CONNECTION_EXCEPTION:\n",
    "        print(\"Error de conexión\")"
   ]
  },
  {
   "cell_type": "code",
   "execution_count": 3,
   "metadata": {},
   "outputs": [
    {
     "data": {
      "text/plain": [
       "<cursor object at 0x0000026A608B04A0; closed: 0>"
      ]
     },
     "execution_count": 3,
     "metadata": {},
     "output_type": "execute_result"
    }
   ],
   "source": [
    "# Primero, deshacer la transacción fallida\n",
    "conexionpeliculas.rollback()\n",
    "\n",
    "cursorpeliculas = conexionpeliculas.cursor()\n",
    "cursorpeliculas"
   ]
  },
  {
   "cell_type": "code",
   "execution_count": 4,
   "metadata": {},
   "outputs": [],
   "source": [
    "# Tabla peliculas\n",
    "\n",
    "# Tipo       object\n",
    "# Titulo     object\n",
    "# Año         int64\n",
    "# Mes         int64\n",
    "# Id         object\n",
    "# generos    object\n",
    "\n",
    "querydecreacion1 = \"\"\"\n",
    "    CREATE TABLE IF NOT EXISTS peliculas (\n",
    "    tipo VARCHAR,\n",
    "    titulo VARCHAR,\n",
    "    año INT,\n",
    "    mes INT,\n",
    "    id_pelicula VARCHAR PRIMARY KEY,\n",
    "    genero VARCHAR\n",
    ");\n",
    "\"\"\"\n",
    "\n",
    "# Ejecutar la consulta y confirmar los cambios\n",
    "cursorpeliculas.execute(querydecreacion1)\n",
    "conexionpeliculas.commit()\n",
    "\n",
    "# Tabla detalles\n",
    "\n",
    "# titulo          object\n",
    "# cali_imdb      float64\n",
    "# direc_imbd      object\n",
    "# guion_imbd      object\n",
    "# argum_imbd      object\n",
    "# durac_imbd      object\n",
    "# id_pelicula     object\n",
    "\n",
    "querydecreacion2 = \"\"\"\n",
    "    CREATE TABLE IF NOT EXISTS detalles_pelicula(\n",
    "    titulo VARCHAR,\n",
    "    cali_imdb DECIMAL,\n",
    "    direc_imbd VARCHAR,\n",
    "    guion_imbd VARCHAR,\n",
    "    argum_imbd VARCHAR,\n",
    "    durac_imbd VARCHAR,\n",
    "    id_pelicula VARCHAR PRIMARY KEY,\n",
    "    FOREIGN KEY (id_pelicula) REFERENCES peliculas(id_pelicula)\n",
    "    on delete restrict\n",
    "    on update cascade\n",
    ");\n",
    "\"\"\"\n",
    "\n",
    "# Ejecutar la consulta y confirmar los cambios\n",
    "cursorpeliculas.execute(querydecreacion2)\n",
    "conexionpeliculas.commit()\n",
    "\n",
    "# Tabla detalles actores\n",
    "\n",
    "# actr            object\n",
    "# año_nac          int64\n",
    "# conocido_por    object\n",
    "# que_hace        object\n",
    "# premios         object\n",
    "\n",
    "querydecreacion4 = \"\"\"\n",
    "    CREATE TABLE IF NOT EXISTS detalles_actores (\n",
    "    nombre VARCHAR PRIMARY KEY,\n",
    "    año INT,\n",
    "    conocido VARCHAR,\n",
    "    rol VARCHAR,\n",
    "    premios VARCHAR\n",
    ");\n",
    "\"\"\"\n",
    "\n",
    "# Ejecutar la consulta y confirmar los cambios\n",
    "cursorpeliculas.execute(querydecreacion4)\n",
    "conexionpeliculas.commit()\n",
    "\n",
    "# Tabla actores\n",
    "\n",
    "# Movie ID        object\n",
    "# Actriz_Actor    object\n",
    "\n",
    "querydecreacion3 = \"\"\"\n",
    "    CREATE TABLE IF NOT EXISTS actores (\n",
    "    id_pelicula VARCHAR,\n",
    "    nombre VARCHAR,\n",
    "    FOREIGN KEY (id_pelicula) REFERENCES peliculas(id_pelicula),\n",
    "    FOREIGN KEY (nombre) REFERENCES detalles_actores (nombre)\n",
    "    on delete restrict\n",
    "    on update cascade\n",
    ");\n",
    "\"\"\"\n",
    "\n",
    "# Ejecutar la consulta y confirmar los cambios\n",
    "cursorpeliculas.execute(querydecreacion3)\n",
    "conexionpeliculas.commit()\n",
    "\n"
   ]
  },
  {
   "cell_type": "code",
   "execution_count": 5,
   "metadata": {},
   "outputs": [
    {
     "data": {
      "text/html": [
       "<div>\n",
       "<style scoped>\n",
       "    .dataframe tbody tr th:only-of-type {\n",
       "        vertical-align: middle;\n",
       "    }\n",
       "\n",
       "    .dataframe tbody tr th {\n",
       "        vertical-align: top;\n",
       "    }\n",
       "\n",
       "    .dataframe thead th {\n",
       "        text-align: right;\n",
       "    }\n",
       "</style>\n",
       "<table border=\"1\" class=\"dataframe\">\n",
       "  <thead>\n",
       "    <tr style=\"text-align: right;\">\n",
       "      <th></th>\n",
       "      <th>Tipo</th>\n",
       "      <th>Titulo</th>\n",
       "      <th>Año</th>\n",
       "      <th>Mes</th>\n",
       "      <th>Id</th>\n",
       "      <th>generos</th>\n",
       "    </tr>\n",
       "  </thead>\n",
       "  <tbody>\n",
       "    <tr>\n",
       "      <th>574</th>\n",
       "      <td>Short</td>\n",
       "      <td>Hurst</td>\n",
       "      <td>2011</td>\n",
       "      <td>6</td>\n",
       "      <td>tt1999895</td>\n",
       "      <td>Horror</td>\n",
       "    </tr>\n",
       "    <tr>\n",
       "      <th>865</th>\n",
       "      <td>Short</td>\n",
       "      <td>Ghunghroo</td>\n",
       "      <td>2023</td>\n",
       "      <td>5</td>\n",
       "      <td>tt27812992</td>\n",
       "      <td>Horror</td>\n",
       "    </tr>\n",
       "    <tr>\n",
       "      <th>721</th>\n",
       "      <td>Short</td>\n",
       "      <td>Into the Black</td>\n",
       "      <td>2017</td>\n",
       "      <td>0</td>\n",
       "      <td>tt5866170</td>\n",
       "      <td>Horror</td>\n",
       "    </tr>\n",
       "    <tr>\n",
       "      <th>1128</th>\n",
       "      <td>Movie</td>\n",
       "      <td>Savageland</td>\n",
       "      <td>2020</td>\n",
       "      <td>5</td>\n",
       "      <td>tt3899154</td>\n",
       "      <td>Thriller</td>\n",
       "    </tr>\n",
       "    <tr>\n",
       "      <th>263</th>\n",
       "      <td>Movie</td>\n",
       "      <td>Because We Are</td>\n",
       "      <td>2021</td>\n",
       "      <td>8</td>\n",
       "      <td>tt10692368</td>\n",
       "      <td>Drama</td>\n",
       "    </tr>\n",
       "  </tbody>\n",
       "</table>\n",
       "</div>"
      ],
      "text/plain": [
       "       Tipo          Titulo   Año  Mes          Id   generos\n",
       "574   Short           Hurst  2011    6   tt1999895    Horror\n",
       "865   Short       Ghunghroo  2023    5  tt27812992    Horror\n",
       "721   Short  Into the Black  2017    0   tt5866170    Horror\n",
       "1128  Movie      Savageland  2020    5   tt3899154  Thriller\n",
       "263   Movie  Because We Are  2021    8  tt10692368     Drama"
      ]
     },
     "execution_count": 5,
     "metadata": {},
     "output_type": "execute_result"
    }
   ],
   "source": [
    "df_peliculas=pd.read_csv(\"../data/extra/peliculas.csv\")\n",
    "df_peliculas.sample(5)"
   ]
  },
  {
   "cell_type": "code",
   "execution_count": 6,
   "metadata": {},
   "outputs": [
    {
     "data": {
      "text/plain": [
       "Tipo       object\n",
       "Titulo     object\n",
       "Año         int64\n",
       "Mes         int64\n",
       "Id         object\n",
       "generos    object\n",
       "dtype: object"
      ]
     },
     "execution_count": 6,
     "metadata": {},
     "output_type": "execute_result"
    }
   ],
   "source": [
    "df_peliculas.dtypes"
   ]
  },
  {
   "cell_type": "code",
   "execution_count": 7,
   "metadata": {},
   "outputs": [],
   "source": [
    "lista_peliculas = [tuple(row) for row in df_peliculas.values]"
   ]
  },
  {
   "cell_type": "code",
   "execution_count": 8,
   "metadata": {},
   "outputs": [
    {
     "data": {
      "text/html": [
       "<div>\n",
       "<style scoped>\n",
       "    .dataframe tbody tr th:only-of-type {\n",
       "        vertical-align: middle;\n",
       "    }\n",
       "\n",
       "    .dataframe tbody tr th {\n",
       "        vertical-align: top;\n",
       "    }\n",
       "\n",
       "    .dataframe thead th {\n",
       "        text-align: right;\n",
       "    }\n",
       "</style>\n",
       "<table border=\"1\" class=\"dataframe\">\n",
       "  <thead>\n",
       "    <tr style=\"text-align: right;\">\n",
       "      <th></th>\n",
       "      <th>titulo</th>\n",
       "      <th>cali_imdb</th>\n",
       "      <th>direc_imbd</th>\n",
       "      <th>guion_imbd</th>\n",
       "      <th>argum_imbd</th>\n",
       "      <th>durac_imbd</th>\n",
       "      <th>id_pelicula</th>\n",
       "    </tr>\n",
       "  </thead>\n",
       "  <tbody>\n",
       "    <tr>\n",
       "      <th>1010</th>\n",
       "      <td>OftalmÃ³s</td>\n",
       "      <td>8.5</td>\n",
       "      <td>Pedro Jaén R.</td>\n",
       "      <td>Pedro Jaén R.</td>\n",
       "      <td>Desconocido</td>\n",
       "      <td>16min</td>\n",
       "      <td>tt1155067</td>\n",
       "    </tr>\n",
       "    <tr>\n",
       "      <th>1208</th>\n",
       "      <td>12 Feet Deep</td>\n",
       "      <td>5.2</td>\n",
       "      <td>Desconocido</td>\n",
       "      <td>Desconocido</td>\n",
       "      <td>Desconocido</td>\n",
       "      <td>1h 25min</td>\n",
       "      <td>tt5143226</td>\n",
       "    </tr>\n",
       "    <tr>\n",
       "      <th>1366</th>\n",
       "      <td>Jacquerie</td>\n",
       "      <td>NaN</td>\n",
       "      <td>Janos Killius</td>\n",
       "      <td>Janos Killius</td>\n",
       "      <td>Desconocido</td>\n",
       "      <td>6min</td>\n",
       "      <td>tt4360490</td>\n",
       "    </tr>\n",
       "    <tr>\n",
       "      <th>412</th>\n",
       "      <td>Life As We Know It</td>\n",
       "      <td>NaN</td>\n",
       "      <td>Desconocido</td>\n",
       "      <td>Desconocido</td>\n",
       "      <td>Desconocido</td>\n",
       "      <td>Desconocido</td>\n",
       "      <td>tt10021716</td>\n",
       "    </tr>\n",
       "    <tr>\n",
       "      <th>818</th>\n",
       "      <td>Toby Doll</td>\n",
       "      <td>NaN</td>\n",
       "      <td>Sylvain Pelissier</td>\n",
       "      <td>Sylvain Pelissier</td>\n",
       "      <td>Desconocido</td>\n",
       "      <td>Desconocido</td>\n",
       "      <td>tt12245110</td>\n",
       "    </tr>\n",
       "  </tbody>\n",
       "</table>\n",
       "</div>"
      ],
      "text/plain": [
       "                  titulo  cali_imdb         direc_imbd         guion_imbd  \\\n",
       "1010           OftalmÃ³s        8.5      Pedro Jaén R.      Pedro Jaén R.   \n",
       "1208        12 Feet Deep        5.2        Desconocido        Desconocido   \n",
       "1366           Jacquerie        NaN      Janos Killius      Janos Killius   \n",
       "412   Life As We Know It        NaN        Desconocido        Desconocido   \n",
       "818            Toby Doll        NaN  Sylvain Pelissier  Sylvain Pelissier   \n",
       "\n",
       "       argum_imbd   durac_imbd id_pelicula  \n",
       "1010  Desconocido        16min   tt1155067  \n",
       "1208  Desconocido     1h 25min   tt5143226  \n",
       "1366  Desconocido         6min   tt4360490  \n",
       "412   Desconocido  Desconocido  tt10021716  \n",
       "818   Desconocido  Desconocido  tt12245110  "
      ]
     },
     "execution_count": 8,
     "metadata": {},
     "output_type": "execute_result"
    }
   ],
   "source": [
    "df_detalles_peliculas=pd.read_csv(\"../data/extra/detalles_peliculas.csv\")\n",
    "df_detalles_peliculas.sample(5)"
   ]
  },
  {
   "cell_type": "code",
   "execution_count": 9,
   "metadata": {},
   "outputs": [
    {
     "data": {
      "text/plain": [
       "titulo          object\n",
       "cali_imdb      float64\n",
       "direc_imbd      object\n",
       "guion_imbd      object\n",
       "argum_imbd      object\n",
       "durac_imbd      object\n",
       "id_pelicula     object\n",
       "dtype: object"
      ]
     },
     "execution_count": 9,
     "metadata": {},
     "output_type": "execute_result"
    }
   ],
   "source": [
    "df_detalles_peliculas.dtypes"
   ]
  },
  {
   "cell_type": "code",
   "execution_count": 10,
   "metadata": {},
   "outputs": [],
   "source": [
    "lista_detalles_peliculas = [tuple(row) for row in df_detalles_peliculas.values]"
   ]
  },
  {
   "cell_type": "code",
   "execution_count": 11,
   "metadata": {},
   "outputs": [
    {
     "data": {
      "text/html": [
       "<div>\n",
       "<style scoped>\n",
       "    .dataframe tbody tr th:only-of-type {\n",
       "        vertical-align: middle;\n",
       "    }\n",
       "\n",
       "    .dataframe tbody tr th {\n",
       "        vertical-align: top;\n",
       "    }\n",
       "\n",
       "    .dataframe thead th {\n",
       "        text-align: right;\n",
       "    }\n",
       "</style>\n",
       "<table border=\"1\" class=\"dataframe\">\n",
       "  <thead>\n",
       "    <tr style=\"text-align: right;\">\n",
       "      <th></th>\n",
       "      <th>actr</th>\n",
       "      <th>año_nac</th>\n",
       "      <th>conocido_por</th>\n",
       "      <th>que_hace</th>\n",
       "      <th>premios</th>\n",
       "    </tr>\n",
       "  </thead>\n",
       "  <tbody>\n",
       "    <tr>\n",
       "      <th>8481</th>\n",
       "      <td>Sharn Hammond</td>\n",
       "      <td>9999</td>\n",
       "      <td>'Paula's Guide to Love', 'Lost and Found', 'De...</td>\n",
       "      <td>Actor, Writer, Producer</td>\n",
       "      <td>no tiene premios</td>\n",
       "    </tr>\n",
       "    <tr>\n",
       "      <th>4566</th>\n",
       "      <td>Johanna ter Steege</td>\n",
       "      <td>1961</td>\n",
       "      <td>'Desaparecida', 'Amor inmortal', 'Tot ziens', ...</td>\n",
       "      <td>Actress</td>\n",
       "      <td>1 win &amp; 1 nomination</td>\n",
       "    </tr>\n",
       "    <tr>\n",
       "      <th>9015</th>\n",
       "      <td>Tammy Lobb</td>\n",
       "      <td>9999</td>\n",
       "      <td>'Backhand'</td>\n",
       "      <td>Actress</td>\n",
       "      <td>no tiene premios</td>\n",
       "    </tr>\n",
       "    <tr>\n",
       "      <th>6186</th>\n",
       "      <td>Masiela Lusha</td>\n",
       "      <td>1985</td>\n",
       "      <td>'El mal que esconde el olvido', 'El último Sha...</td>\n",
       "      <td>Actress, Stunts, Camera and Electrical Department</td>\n",
       "      <td>no tiene premios</td>\n",
       "    </tr>\n",
       "    <tr>\n",
       "      <th>7499</th>\n",
       "      <td>Predrag 'Miki' Manojlovic</td>\n",
       "      <td>1950</td>\n",
       "      <td>'Underground', 'The Heir Apparent: Largo Winch...</td>\n",
       "      <td>Actress</td>\n",
       "      <td>no tiene premios</td>\n",
       "    </tr>\n",
       "  </tbody>\n",
       "</table>\n",
       "</div>"
      ],
      "text/plain": [
       "                           actr  año_nac  \\\n",
       "8481              Sharn Hammond     9999   \n",
       "4566         Johanna ter Steege     1961   \n",
       "9015                 Tammy Lobb     9999   \n",
       "6186              Masiela Lusha     1985   \n",
       "7499  Predrag 'Miki' Manojlovic     1950   \n",
       "\n",
       "                                           conocido_por  \\\n",
       "8481  'Paula's Guide to Love', 'Lost and Found', 'De...   \n",
       "4566  'Desaparecida', 'Amor inmortal', 'Tot ziens', ...   \n",
       "9015                                         'Backhand'   \n",
       "6186  'El mal que esconde el olvido', 'El último Sha...   \n",
       "7499  'Underground', 'The Heir Apparent: Largo Winch...   \n",
       "\n",
       "                                               que_hace               premios  \n",
       "8481                            Actor, Writer, Producer      no tiene premios  \n",
       "4566                                            Actress  1 win & 1 nomination  \n",
       "9015                                            Actress      no tiene premios  \n",
       "6186  Actress, Stunts, Camera and Electrical Department      no tiene premios  \n",
       "7499                                            Actress      no tiene premios  "
      ]
     },
     "execution_count": 11,
     "metadata": {},
     "output_type": "execute_result"
    }
   ],
   "source": [
    "df_detalles_actores=pd.read_csv(\"../data/extra/detalles_artistas.csv\")\n",
    "df_detalles_actores.sample(5)"
   ]
  },
  {
   "cell_type": "code",
   "execution_count": 12,
   "metadata": {},
   "outputs": [
    {
     "data": {
      "text/plain": [
       "actr            object\n",
       "año_nac          int64\n",
       "conocido_por    object\n",
       "que_hace        object\n",
       "premios         object\n",
       "dtype: object"
      ]
     },
     "execution_count": 12,
     "metadata": {},
     "output_type": "execute_result"
    }
   ],
   "source": [
    "df_detalles_actores.dtypes"
   ]
  },
  {
   "cell_type": "code",
   "execution_count": 13,
   "metadata": {},
   "outputs": [],
   "source": [
    "df_detalles_actores.drop_duplicates(inplace=True)"
   ]
  },
  {
   "cell_type": "code",
   "execution_count": 14,
   "metadata": {},
   "outputs": [
    {
     "data": {
      "text/plain": [
       "(9907, 5)"
      ]
     },
     "execution_count": 14,
     "metadata": {},
     "output_type": "execute_result"
    }
   ],
   "source": [
    "df_detalles_actores.shape"
   ]
  },
  {
   "cell_type": "code",
   "execution_count": 15,
   "metadata": {},
   "outputs": [],
   "source": [
    "df_detalles_actores[\"Actriz_Actor\"]=df_detalles_actores[\"actr\"]"
   ]
  },
  {
   "cell_type": "code",
   "execution_count": 16,
   "metadata": {},
   "outputs": [
    {
     "data": {
      "text/plain": [
       "actr            9907\n",
       "año_nac          115\n",
       "conocido_por    9301\n",
       "que_hace        1076\n",
       "premios          872\n",
       "Actriz_Actor    9907\n",
       "dtype: int64"
      ]
     },
     "execution_count": 16,
     "metadata": {},
     "output_type": "execute_result"
    }
   ],
   "source": [
    "df_detalles_actores.nunique()"
   ]
  },
  {
   "cell_type": "code",
   "execution_count": 18,
   "metadata": {},
   "outputs": [
    {
     "data": {
      "text/html": [
       "<div>\n",
       "<style scoped>\n",
       "    .dataframe tbody tr th:only-of-type {\n",
       "        vertical-align: middle;\n",
       "    }\n",
       "\n",
       "    .dataframe tbody tr th {\n",
       "        vertical-align: top;\n",
       "    }\n",
       "\n",
       "    .dataframe thead th {\n",
       "        text-align: right;\n",
       "    }\n",
       "</style>\n",
       "<table border=\"1\" class=\"dataframe\">\n",
       "  <thead>\n",
       "    <tr style=\"text-align: right;\">\n",
       "      <th></th>\n",
       "      <th>Movie ID</th>\n",
       "      <th>Actriz_Actor</th>\n",
       "    </tr>\n",
       "  </thead>\n",
       "  <tbody>\n",
       "    <tr>\n",
       "      <th>4453</th>\n",
       "      <td>tt0469754</td>\n",
       "      <td>Benedikt Erlingsson</td>\n",
       "    </tr>\n",
       "    <tr>\n",
       "      <th>13165</th>\n",
       "      <td>tt0425333</td>\n",
       "      <td>Celal Belgil</td>\n",
       "    </tr>\n",
       "    <tr>\n",
       "      <th>7220</th>\n",
       "      <td>tt0385212</td>\n",
       "      <td>AiAi Delas Alas</td>\n",
       "    </tr>\n",
       "    <tr>\n",
       "      <th>1336</th>\n",
       "      <td>tt12237116</td>\n",
       "      <td>Luna Wolf</td>\n",
       "    </tr>\n",
       "    <tr>\n",
       "      <th>11076</th>\n",
       "      <td>tt1871270</td>\n",
       "      <td>Hennely Jimenez</td>\n",
       "    </tr>\n",
       "  </tbody>\n",
       "</table>\n",
       "</div>"
      ],
      "text/plain": [
       "         Movie ID         Actriz_Actor\n",
       "4453    tt0469754  Benedikt Erlingsson\n",
       "13165   tt0425333         Celal Belgil\n",
       "7220    tt0385212      AiAi Delas Alas\n",
       "1336   tt12237116            Luna Wolf\n",
       "11076   tt1871270      Hennely Jimenez"
      ]
     },
     "execution_count": 18,
     "metadata": {},
     "output_type": "execute_result"
    }
   ],
   "source": [
    "df_actores=pd.read_csv(\"../data/extra/pelicula_artista.csv\")\n",
    "df_actores.sample(5)"
   ]
  },
  {
   "cell_type": "code",
   "execution_count": 19,
   "metadata": {},
   "outputs": [
    {
     "data": {
      "text/plain": [
       "Actriz_Actor\n",
       "Sin datos         4094\n",
       "Shakti Kapoor        8\n",
       "Anupam Kher          8\n",
       "Gulshan Grover       6\n",
       "Mohnish Behl         6\n",
       "                  ... \n",
       "Keep Chambers        1\n",
       "Jarod Johnson        1\n",
       "Joe D'Aguanno        1\n",
       "Darren Baxter        1\n",
       "Fanta Berete         1\n",
       "Name: count, Length: 9909, dtype: int64"
      ]
     },
     "execution_count": 19,
     "metadata": {},
     "output_type": "execute_result"
    }
   ],
   "source": [
    "df_actores[\"Actriz_Actor\"].value_counts()"
   ]
  },
  {
   "cell_type": "code",
   "execution_count": 20,
   "metadata": {},
   "outputs": [
    {
     "data": {
      "text/plain": [
       "Movie ID        object\n",
       "Actriz_Actor    object\n",
       "dtype: object"
      ]
     },
     "execution_count": 20,
     "metadata": {},
     "output_type": "execute_result"
    }
   ],
   "source": [
    "df_actores.dtypes"
   ]
  },
  {
   "cell_type": "code",
   "execution_count": 21,
   "metadata": {},
   "outputs": [
    {
     "data": {
      "text/plain": [
       "(14529, 2)"
      ]
     },
     "execution_count": 21,
     "metadata": {},
     "output_type": "execute_result"
    }
   ],
   "source": [
    "df_actores.shape"
   ]
  },
  {
   "cell_type": "code",
   "execution_count": 22,
   "metadata": {},
   "outputs": [],
   "source": [
    "df_actores.drop_duplicates(inplace=True)"
   ]
  },
  {
   "cell_type": "code",
   "execution_count": 23,
   "metadata": {},
   "outputs": [],
   "source": [
    "df_actores=pd.merge(df_actores,df_detalles_actores, on=\"Actriz_Actor\",how=\"inner\")"
   ]
  },
  {
   "cell_type": "code",
   "execution_count": 24,
   "metadata": {},
   "outputs": [
    {
     "data": {
      "text/html": [
       "<div>\n",
       "<style scoped>\n",
       "    .dataframe tbody tr th:only-of-type {\n",
       "        vertical-align: middle;\n",
       "    }\n",
       "\n",
       "    .dataframe tbody tr th {\n",
       "        vertical-align: top;\n",
       "    }\n",
       "\n",
       "    .dataframe thead th {\n",
       "        text-align: right;\n",
       "    }\n",
       "</style>\n",
       "<table border=\"1\" class=\"dataframe\">\n",
       "  <thead>\n",
       "    <tr style=\"text-align: right;\">\n",
       "      <th></th>\n",
       "      <th>Movie ID</th>\n",
       "      <th>Actriz_Actor</th>\n",
       "      <th>actr</th>\n",
       "      <th>año_nac</th>\n",
       "      <th>conocido_por</th>\n",
       "      <th>que_hace</th>\n",
       "      <th>premios</th>\n",
       "    </tr>\n",
       "  </thead>\n",
       "  <tbody>\n",
       "    <tr>\n",
       "      <th>0</th>\n",
       "      <td>tt0110660</td>\n",
       "      <td>Tony Ka Fai Leung</td>\n",
       "      <td>Tony Ka Fai Leung</td>\n",
       "      <td>1958</td>\n",
       "      <td>'Election', 'The Lover', 'Cold War', 'Men Sudd...</td>\n",
       "      <td>Actor, Producer, Director</td>\n",
       "      <td>16 wins &amp; 42 nominations</td>\n",
       "    </tr>\n",
       "    <tr>\n",
       "      <th>1</th>\n",
       "      <td>tt0110363</td>\n",
       "      <td>Luke Edwards</td>\n",
       "      <td>Luke Edwards</td>\n",
       "      <td>1980</td>\n",
       "      <td>'Little Big League', 'The Wizard', 'Jeepers Cr...</td>\n",
       "      <td>Actor, Director, Writer</td>\n",
       "      <td>no tiene premios</td>\n",
       "    </tr>\n",
       "    <tr>\n",
       "      <th>2</th>\n",
       "      <td>tt0110397</td>\n",
       "      <td>Jennifer Barker</td>\n",
       "      <td>Jennifer Barker</td>\n",
       "      <td>9999</td>\n",
       "      <td>'Traffic', 'Born Wild', 'Murder One', 'Centuri...</td>\n",
       "      <td>Actor</td>\n",
       "      <td>no tiene premios</td>\n",
       "    </tr>\n",
       "    <tr>\n",
       "      <th>3</th>\n",
       "      <td>tt0111045</td>\n",
       "      <td>Miklós Déri</td>\n",
       "      <td>Miklós Déri</td>\n",
       "      <td>9999</td>\n",
       "      <td>'Knights of the Zodiac', 'Shadow and Bone', 'H...</td>\n",
       "      <td>Actor, Writer, Producer</td>\n",
       "      <td>3 nominations</td>\n",
       "    </tr>\n",
       "    <tr>\n",
       "      <th>4</th>\n",
       "      <td>tt0111653</td>\n",
       "      <td>Joe Bays</td>\n",
       "      <td>Joe Bays</td>\n",
       "      <td>1955</td>\n",
       "      <td>'Spider-Man 3', 'Office Space', 'Space Jam', '...</td>\n",
       "      <td>Actor</td>\n",
       "      <td>no tiene premios</td>\n",
       "    </tr>\n",
       "    <tr>\n",
       "      <th>...</th>\n",
       "      <td>...</td>\n",
       "      <td>...</td>\n",
       "      <td>...</td>\n",
       "      <td>...</td>\n",
       "      <td>...</td>\n",
       "      <td>...</td>\n",
       "      <td>...</td>\n",
       "    </tr>\n",
       "    <tr>\n",
       "      <th>11224</th>\n",
       "      <td>tt10709060</td>\n",
       "      <td>Kendra Kuhnhofer</td>\n",
       "      <td>Kendra Kuhnhofer</td>\n",
       "      <td>9999</td>\n",
       "      <td>'Game Over'</td>\n",
       "      <td>Camera and Electrical Department, Cinematograp...</td>\n",
       "      <td>no tiene premios</td>\n",
       "    </tr>\n",
       "    <tr>\n",
       "      <th>11225</th>\n",
       "      <td>tt14142640</td>\n",
       "      <td>Prakash</td>\n",
       "      <td>Prakash</td>\n",
       "      <td>1965</td>\n",
       "      <td>'Anniyan', 'Singham', 'Abhiyum Naanum', 'Kalki'</td>\n",
       "      <td>Actor, Stunts, Director</td>\n",
       "      <td>1 win &amp; 6 nominations</td>\n",
       "    </tr>\n",
       "    <tr>\n",
       "      <th>11226</th>\n",
       "      <td>tt18688348</td>\n",
       "      <td>Oleg Primogenov</td>\n",
       "      <td>Oleg Primogenov</td>\n",
       "      <td>1955</td>\n",
       "      <td>'ToyKhtoProyshovKrizVohon', 'Toloka', 'Ballada...</td>\n",
       "      <td>Actor</td>\n",
       "      <td>1 nomination</td>\n",
       "    </tr>\n",
       "    <tr>\n",
       "      <th>11227</th>\n",
       "      <td>tt27241513</td>\n",
       "      <td>Georgiy Topolaga</td>\n",
       "      <td>Georgiy Topolaga</td>\n",
       "      <td>1965</td>\n",
       "      <td>'The Blackout', 'Khitrovka. The Sign of Four',...</td>\n",
       "      <td>Actress</td>\n",
       "      <td>no tiene premios</td>\n",
       "    </tr>\n",
       "    <tr>\n",
       "      <th>11228</th>\n",
       "      <td>tt27262238</td>\n",
       "      <td>Jacob Schindler</td>\n",
       "      <td>Jacob Schindler</td>\n",
       "      <td>9999</td>\n",
       "      <td>'Bicycle', 'You Bring It Back with You', 'Magn...</td>\n",
       "      <td>Actor</td>\n",
       "      <td>no tiene premios</td>\n",
       "    </tr>\n",
       "  </tbody>\n",
       "</table>\n",
       "<p>11229 rows × 7 columns</p>\n",
       "</div>"
      ],
      "text/plain": [
       "         Movie ID       Actriz_Actor               actr  año_nac  \\\n",
       "0       tt0110660  Tony Ka Fai Leung  Tony Ka Fai Leung     1958   \n",
       "1       tt0110363       Luke Edwards       Luke Edwards     1980   \n",
       "2       tt0110397    Jennifer Barker    Jennifer Barker     9999   \n",
       "3       tt0111045        Miklós Déri        Miklós Déri     9999   \n",
       "4       tt0111653           Joe Bays           Joe Bays     1955   \n",
       "...           ...                ...                ...      ...   \n",
       "11224  tt10709060   Kendra Kuhnhofer   Kendra Kuhnhofer     9999   \n",
       "11225  tt14142640            Prakash            Prakash     1965   \n",
       "11226  tt18688348    Oleg Primogenov    Oleg Primogenov     1955   \n",
       "11227  tt27241513   Georgiy Topolaga   Georgiy Topolaga     1965   \n",
       "11228  tt27262238    Jacob Schindler    Jacob Schindler     9999   \n",
       "\n",
       "                                            conocido_por  \\\n",
       "0      'Election', 'The Lover', 'Cold War', 'Men Sudd...   \n",
       "1      'Little Big League', 'The Wizard', 'Jeepers Cr...   \n",
       "2      'Traffic', 'Born Wild', 'Murder One', 'Centuri...   \n",
       "3      'Knights of the Zodiac', 'Shadow and Bone', 'H...   \n",
       "4      'Spider-Man 3', 'Office Space', 'Space Jam', '...   \n",
       "...                                                  ...   \n",
       "11224                                        'Game Over'   \n",
       "11225    'Anniyan', 'Singham', 'Abhiyum Naanum', 'Kalki'   \n",
       "11226  'ToyKhtoProyshovKrizVohon', 'Toloka', 'Ballada...   \n",
       "11227  'The Blackout', 'Khitrovka. The Sign of Four',...   \n",
       "11228  'Bicycle', 'You Bring It Back with You', 'Magn...   \n",
       "\n",
       "                                                que_hace  \\\n",
       "0                              Actor, Producer, Director   \n",
       "1                                Actor, Director, Writer   \n",
       "2                                                  Actor   \n",
       "3                                Actor, Writer, Producer   \n",
       "4                                                  Actor   \n",
       "...                                                  ...   \n",
       "11224  Camera and Electrical Department, Cinematograp...   \n",
       "11225                            Actor, Stunts, Director   \n",
       "11226                                              Actor   \n",
       "11227                                            Actress   \n",
       "11228                                              Actor   \n",
       "\n",
       "                        premios  \n",
       "0      16 wins & 42 nominations  \n",
       "1              no tiene premios  \n",
       "2              no tiene premios  \n",
       "3                 3 nominations  \n",
       "4              no tiene premios  \n",
       "...                         ...  \n",
       "11224          no tiene premios  \n",
       "11225     1 win & 6 nominations  \n",
       "11226              1 nomination  \n",
       "11227          no tiene premios  \n",
       "11228          no tiene premios  \n",
       "\n",
       "[11229 rows x 7 columns]"
      ]
     },
     "execution_count": 24,
     "metadata": {},
     "output_type": "execute_result"
    }
   ],
   "source": [
    "df_actores"
   ]
  },
  {
   "cell_type": "code",
   "execution_count": 25,
   "metadata": {},
   "outputs": [],
   "source": [
    "df_actores.drop(columns=[\"actr\",\"año_nac\",\"conocido_por\",\"que_hace\",\"premios\"], inplace=True)"
   ]
  },
  {
   "cell_type": "code",
   "execution_count": 26,
   "metadata": {},
   "outputs": [],
   "source": [
    "lista_actores = [tuple(row) for row in df_actores.values]"
   ]
  },
  {
   "cell_type": "code",
   "execution_count": 34,
   "metadata": {},
   "outputs": [],
   "source": [
    "df_detalles_actores=df_detalles_actores.drop(columns=\"Actriz_Actor\")"
   ]
  },
  {
   "cell_type": "code",
   "execution_count": 35,
   "metadata": {},
   "outputs": [],
   "source": [
    "lista_detalles_actores = [tuple(row) for row in df_detalles_actores.values]"
   ]
  },
  {
   "cell_type": "code",
   "execution_count": 32,
   "metadata": {},
   "outputs": [
    {
     "data": {
      "text/plain": [
       "<cursor object at 0x0000026A62C704A0; closed: 0>"
      ]
     },
     "execution_count": 32,
     "metadata": {},
     "output_type": "execute_result"
    }
   ],
   "source": [
    "# Primero, deshacer la transacción fallida\n",
    "conexionpeliculas.rollback()\n",
    "\n",
    "cursorpeliculas = conexionpeliculas.cursor()\n",
    "cursorpeliculas"
   ]
  },
  {
   "cell_type": "code",
   "execution_count": 28,
   "metadata": {},
   "outputs": [],
   "source": [
    "queryinsercion = \"INSERT INTO peliculas (tipo, titulo, año, mes, id_pelicula, genero) VALUES (%s,%s,%s,%s,%s,%s);\"\n",
    "listavaloresinsercion=lista_peliculas\n",
    "cursorpeliculas.executemany(queryinsercion,listavaloresinsercion)\n",
    "conexionpeliculas.commit()"
   ]
  },
  {
   "cell_type": "code",
   "execution_count": 29,
   "metadata": {},
   "outputs": [],
   "source": [
    "queryinsercion = \"INSERT INTO detalles_pelicula (titulo, cali_imdb, direc_imbd, guion_imbd, argum_imbd, durac_imbd, id_pelicula) VALUES (%s,%s,%s,%s,%s,%s,%s);\"\n",
    "listavaloresinsercion=lista_detalles_peliculas\n",
    "cursorpeliculas.executemany(queryinsercion,listavaloresinsercion)\n",
    "conexionpeliculas.commit()"
   ]
  },
  {
   "cell_type": "code",
   "execution_count": 36,
   "metadata": {},
   "outputs": [],
   "source": [
    "queryinsercion = \"INSERT INTO detalles_actores (nombre, año, conocido, rol, premios) VALUES (%s,%s,%s,%s,%s);\"\n",
    "listavaloresinsercion=lista_detalles_actores\n",
    "cursorpeliculas.executemany(queryinsercion,listavaloresinsercion)\n",
    "conexionpeliculas.commit()"
   ]
  },
  {
   "cell_type": "code",
   "execution_count": 37,
   "metadata": {},
   "outputs": [],
   "source": [
    "queryinsercion = \"INSERT INTO actores (id_pelicula, nombre) VALUES (%s,%s);\"\n",
    "listavaloresinsercion=lista_actores\n",
    "cursorpeliculas.executemany(queryinsercion,listavaloresinsercion)\n",
    "conexionpeliculas.commit()"
   ]
  }
 ],
 "metadata": {
  "kernelspec": {
   "display_name": "Python 3",
   "language": "python",
   "name": "python3"
  },
  "language_info": {
   "codemirror_mode": {
    "name": "ipython",
    "version": 3
   },
   "file_extension": ".py",
   "mimetype": "text/x-python",
   "name": "python",
   "nbconvert_exporter": "python",
   "pygments_lexer": "ipython3",
   "version": "3.12.8"
  }
 },
 "nbformat": 4,
 "nbformat_minor": 2
}
