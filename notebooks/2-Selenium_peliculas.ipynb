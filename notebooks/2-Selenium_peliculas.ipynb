{
 "cells": [
  {
   "cell_type": "code",
   "execution_count": 1,
   "metadata": {},
   "outputs": [],
   "source": [
    "from bs4 import BeautifulSoup\n",
    "import requests\n",
    "import pandas as pd\n",
    "import numpy as np\n",
    "from tqdm import tqdm\n",
    "import pickle"
   ]
  },
  {
   "cell_type": "code",
   "execution_count": 2,
   "metadata": {},
   "outputs": [],
   "source": [
    "def obtener_contenido_pagina(i):\n",
    "    url = f'https://www.imdb.com/es-es/title/{i}'\n",
    "    request_headers = {\n",
    "    'user-agent': 'Mozilla/5.0 (Windows NT 10.0; Win64; x64) AppleWebKit/537.36 (KHTML, like Gecko) Chrome/91.0.4472.124 Safari/537.36'}\n",
    "    response = requests.get(url, headers=request_headers)\n",
    "    if response.status_code == 200:\n",
    "        return BeautifulSoup(response.content, 'html.parser')\n",
    "    else:\n",
    "        return print(\"No funciona\")"
   ]
  },
  {
   "cell_type": "code",
   "execution_count": 3,
   "metadata": {},
   "outputs": [],
   "source": [
    "import pickle\n",
    "\n",
    "with open('../data/all_titles1.pkl', 'rb') as f:\n",
    "    all_titles1 = pickle.load(f)"
   ]
  },
  {
   "cell_type": "code",
   "execution_count": 4,
   "metadata": {},
   "outputs": [],
   "source": [
    "df_titles=pd.DataFrame(all_titles1)"
   ]
  },
  {
   "cell_type": "code",
   "execution_count": 5,
   "metadata": {},
   "outputs": [],
   "source": [
    "df_titles.drop_duplicates(inplace=True)"
   ]
  },
  {
   "cell_type": "code",
   "execution_count": 6,
   "metadata": {},
   "outputs": [],
   "source": [
    "lista_id_peliculas=list(df_titles[0])"
   ]
  },
  {
   "cell_type": "code",
   "execution_count": 8,
   "metadata": {},
   "outputs": [
    {
     "name": "stderr",
     "output_type": "stream",
     "text": [
      " 20%|██        | 2/10 [00:00<00:01,  7.04it/s]"
     ]
    },
    {
     "name": "stdout",
     "output_type": "stream",
     "text": [
      "No funciona\n",
      "No funciona\n"
     ]
    },
    {
     "name": "stderr",
     "output_type": "stream",
     "text": [
      " 30%|███       | 3/10 [00:00<00:01,  6.60it/s]"
     ]
    },
    {
     "name": "stdout",
     "output_type": "stream",
     "text": [
      "No funciona\n"
     ]
    },
    {
     "name": "stderr",
     "output_type": "stream",
     "text": [
      " 50%|█████     | 5/10 [00:01<00:01,  2.51it/s]"
     ]
    },
    {
     "name": "stdout",
     "output_type": "stream",
     "text": [
      "No funciona\n",
      "No funciona\n"
     ]
    },
    {
     "name": "stderr",
     "output_type": "stream",
     "text": [
      " 70%|███████   | 7/10 [00:02<00:00,  3.90it/s]"
     ]
    },
    {
     "name": "stdout",
     "output_type": "stream",
     "text": [
      "No funciona\n",
      "No funciona\n"
     ]
    },
    {
     "name": "stderr",
     "output_type": "stream",
     "text": [
      " 90%|█████████ | 9/10 [00:02<00:00,  5.14it/s]"
     ]
    },
    {
     "name": "stdout",
     "output_type": "stream",
     "text": [
      "No funciona\n",
      "No funciona\n"
     ]
    },
    {
     "name": "stderr",
     "output_type": "stream",
     "text": [
      "100%|██████████| 10/10 [00:02<00:00,  3.66it/s]"
     ]
    },
    {
     "name": "stdout",
     "output_type": "stream",
     "text": [
      "No funciona\n"
     ]
    },
    {
     "name": "stderr",
     "output_type": "stream",
     "text": [
      "\n"
     ]
    }
   ],
   "source": [
    "lista_sopas=[]\n",
    "for i in tqdm(lista_id_peliculas[:10]):\n",
    "    sopa=obtener_contenido_pagina(i)\n",
    "    lista_sopas.append(sopa)\n",
    "    with open('../data/lista_sopas.pkl', 'wb') as f:\n",
    "        pickle.dump(lista_sopas, f)"
   ]
  },
  {
   "cell_type": "code",
   "execution_count": 9,
   "metadata": {},
   "outputs": [
    {
     "data": {
      "text/plain": [
       "[None, None, None, None, None, None, None, None, None, None]"
      ]
     },
     "execution_count": 9,
     "metadata": {},
     "output_type": "execute_result"
    }
   ],
   "source": [
    "lista_sopas"
   ]
  },
  {
   "cell_type": "code",
   "execution_count": null,
   "metadata": {},
   "outputs": [],
   "source": [
    "def extraer_nombre(items):\n",
    "    listanombres = []\n",
    "    for item in items:\n",
    "        try:\n",
    "            nombre = item.find('span', {'class': \"hero__primary-text\"}).getText()\n",
    "            listanombres.append(nombre if nombre != '' else '')\n",
    "        except:\n",
    "            listanombres.append('')\n",
    "    return pd.DataFrame(listanombres, columns=['nombre'])"
   ]
  },
  {
   "cell_type": "code",
   "execution_count": null,
   "metadata": {},
   "outputs": [],
   "source": [
    "def extraer_director(items):\n",
    "    listanombres = []\n",
    "    for item in items:\n",
    "        try:\n",
    "            nombre = item.find_all('a', {'class': 'ipc-metadata-list-item__list-content-item ipc-metadata-list-item__list-content-item--link'})[0].getText()\n",
    "            listanombres.append(nombre if nombre != '' else '')\n",
    "        except:\n",
    "            listanombres.append('')\n",
    "    return pd.DataFrame(listanombres, columns=['director'])"
   ]
  },
  {
   "cell_type": "code",
   "execution_count": null,
   "metadata": {},
   "outputs": [],
   "source": [
    "def extraer_guionista(items):\n",
    "    listanombres = []\n",
    "    for item in items:\n",
    "        try:\n",
    "            nombre = item.find_all('a', {'class': 'ipc-metadata-list-item__list-content-item ipc-metadata-list-item__list-content-item--link'})[1].getText()\n",
    "            listanombres.append(nombre if nombre != '' else '')\n",
    "        except:\n",
    "            listanombres.append('')\n",
    "    return pd.DataFrame(listanombres, columns=['guionista'])"
   ]
  },
  {
   "cell_type": "code",
   "execution_count": null,
   "metadata": {},
   "outputs": [],
   "source": [
    "def extraer_actores(items):\n",
    "    lista_actores = []\n",
    "    for item in items:\n",
    "        try:\n",
    "            df = item.find_all('a', {'class': 'sc-cd7dc4b7-1 kVdWAO'})\n",
    "            lista_act=[]\n",
    "            for row in df[:10]:\n",
    "                actor=row.getText()\n",
    "                lista_act.append(actor)\n",
    "            lista_actores.append(lista_act)\n",
    "        except:\n",
    "            lista_actores.append('')\n",
    "    return pd.DataFrame(lista_actores, columns=['actores'])"
   ]
  },
  {
   "cell_type": "code",
   "execution_count": null,
   "metadata": {},
   "outputs": [],
   "source": [
    "def extraer_argumento(items):\n",
    "    lista_argumentos = []\n",
    "    for item in items:\n",
    "        try:\n",
    "            nombre = item.find('span', {'class': 'sc-3ac15c8d-1 gkeSEi'}).getText()\n",
    "            lista_argumentos.append(nombre if nombre != '' else '')\n",
    "        except:\n",
    "            lista_argumentos.append('')\n",
    "    return pd.DataFrame(lista_argumentos, columns=['argumento'])"
   ]
  },
  {
   "cell_type": "code",
   "execution_count": null,
   "metadata": {},
   "outputs": [],
   "source": [
    "def extraer_puntuacion(items):\n",
    "    lista_puntuaciones = []\n",
    "    for item in items:\n",
    "        try:\n",
    "            nombre = item.find('span', {'class': 'sc-d541859f-1 imUuxf'}).getText()\n",
    "            lista_puntuaciones.append(nombre if nombre != '' else '')\n",
    "        except:\n",
    "            lista_puntuaciones.append('')\n",
    "    return pd.DataFrame(lista_puntuaciones, columns=['IMBD_rate'])"
   ]
  },
  {
   "cell_type": "code",
   "execution_count": null,
   "metadata": {},
   "outputs": [],
   "source": [
    "def extraer_duracion(items):\n",
    "    lista_duraciones = []\n",
    "    for item in items:\n",
    "        try:\n",
    "            nombre = item.find_all('li', {'class': 'ipc-inline-list__item'})[6].getText()\n",
    "            lista_duraciones.append(nombre if nombre != '' else '')\n",
    "        except:\n",
    "            lista_duraciones.append('')\n",
    "    return pd.DataFrame(lista_duraciones, columns=['duracion'])"
   ]
  }
 ],
 "metadata": {
  "kernelspec": {
   "display_name": "Python 3",
   "language": "python",
   "name": "python3"
  },
  "language_info": {
   "codemirror_mode": {
    "name": "ipython",
    "version": 3
   },
   "file_extension": ".py",
   "mimetype": "text/x-python",
   "name": "python",
   "nbconvert_exporter": "python",
   "pygments_lexer": "ipython3",
   "version": "3.12.8"
  }
 },
 "nbformat": 4,
 "nbformat_minor": 2
}
